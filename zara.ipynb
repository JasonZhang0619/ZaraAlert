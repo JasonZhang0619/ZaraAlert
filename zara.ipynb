{
 "metadata": {
  "language_info": {
   "codemirror_mode": {
    "name": "ipython",
    "version": 3
   },
   "file_extension": ".py",
   "mimetype": "text/x-python",
   "name": "python",
   "nbconvert_exporter": "python",
   "pygments_lexer": "ipython3",
   "version": "3.7.6-final"
  },
  "orig_nbformat": 2,
  "kernelspec": {
   "name": "python3",
   "display_name": "Python 3.7.6 64-bit ('Python': conda)",
   "metadata": {
    "interpreter": {
     "hash": "f2464219c0e8ae69bf902e5ea7423019dd26d2d529ab6b956c8797dfa7385107"
    }
   }
  }
 },
 "nbformat": 4,
 "nbformat_minor": 2,
 "cells": [
  {
   "source": [
    "# Zara Alert\n",
    "How Can I check my desired item from zara.com rugularly thorugh apps rather than manually? This idea inspired me to write the code below to automate this process. At the end, I'm able to receive an email asap when an desired item is back in stock\n",
    "## components:\n",
    "- gmail sending(through gmail api):\n",
    "send email to me when it's back in stock\n",
    "- web scraping(bs4):\n",
    "scrape the website and check stock every 5 minutes"
   ],
   "cell_type": "markdown",
   "metadata": {}
  },
  {
   "source": [
    "## 1. [Gmail api](https://developers.google.com/gmail/api/quickstart/python):\n",
    "How to send email in Python with a google account?\n",
    "### 1.1 Config\n",
    "as mentioned [here](https://developers.google.com/gmail/api/quickstart/python), firstly, you need Turn on the Gmail API and DOWNLOAD CLIENT CONFIGURATION and save the file `credentials.json` to your working directory. \n",
    "\n",
    "Also you need to install the packages below:\n",
    "```\n",
    "pip install --upgrade google-api-python-client google-auth-httplib2 google-auth-oauthlib\n",
    "```\n",
    "### 1.2 Luanch service\n"
   ],
   "cell_type": "markdown",
   "metadata": {}
  },
  {
   "cell_type": "code",
   "execution_count": null,
   "metadata": {},
   "outputs": [],
   "source": [
    "from __future__ import print_function\n",
    "import pickle\n",
    "import os.path\n",
    "from googleapiclient.discovery import build\n",
    "from google_auth_oauthlib.flow import InstalledAppFlow\n",
    "from google.auth.transport.requests import Request\n",
    "\n",
    "# If modifying these scopes, delete the file token.pickle.\n",
    "SCOPES = ['https://www.googleapis.com/auth/gmail.readonly']\n",
    "\n",
    "creds = None\n",
    "# The file token.pickle stores the user's access and refresh tokens, and is\n",
    "# created automatically when the authorization flow completes for the first\n",
    "# time.\n",
    "if os.path.exists('token.pickle'):\n",
    "    with open('token.pickle', 'rb') as token:\n",
    "        creds = pickle.load(token)\n",
    "# If there are no (valid) credentials available, let the user log in.\n",
    "if not creds or not creds.valid:\n",
    "    if creds and creds.expired and creds.refresh_token:\n",
    "        creds.refresh(Request())\n",
    "    else:\n",
    "        flow = InstalledAppFlow.from_client_secrets_file(\n",
    "            'credentials.json', SCOPES)\n",
    "        creds = flow.run_local_server(port=0)\n",
    "    # Save the credentials for the next run\n",
    "    with open('token.pickle', 'wb') as token:\n",
    "        pickle.dump(creds, token)\n",
    "\n",
    "service = build('gmail', 'v1', credentials=creds)"
   ]
  },
  {
   "source": [
    "Note: \n",
    "\n",
    "- `SCOPES` url above is permissions you request users to authorize for your app. Different settings can be found [here](https://developers.google.com/gmail/api/auth/scopes)\n",
    "\n",
    "- At the first time you run the codes, you will be directed to your broswer to login and confirm access you give to this app."
   ],
   "cell_type": "markdown",
   "metadata": {}
  },
  {
   "source": [
    "### 1.3 [Create and send email](https://developers.google.com/gmail/api/guides/sending)"
   ],
   "cell_type": "markdown",
   "metadata": {}
  },
  {
   "cell_type": "code",
   "execution_count": null,
   "metadata": {},
   "outputs": [],
   "source": [
    "def create_message(sender, to, subject, message_text):\n",
    "    \"\"\"Create a message for an email.\n",
    "\n",
    "    Args:\n",
    "    sender: Email address of the sender.\n",
    "    to: Email address of the receiver.\n",
    "    subject: The subject of the email message.\n",
    "    message_text: The text of the email message.\n",
    "\n",
    "    Returns:\n",
    "    An object containing a base64url encoded email object.\n",
    "    \"\"\"\n",
    "    message = MIMEText(message_text)\n",
    "    message['to'] = to\n",
    "    message['from'] = sender\n",
    "    message['subject'] = subject\n",
    "    message=message.as_string()\n",
    "    # return {'raw': base64.urlsafe_b64encode(message)} # python 2\n",
    "    return {'raw': base64.urlsafe_b64encode(message.encode(\"utf-8\")).decode(\"utf-8\")}# python 3\n",
    "\n",
    "def send_message(service, user_id, message):\n",
    "    message = (service.users()\n",
    "    .messages()\n",
    "    .send(userId=user_id, \n",
    "    body=message)\n",
    "    .execute())\n",
    "    print ('Message Id: %s' % message['id'])\n",
    "    return message"
   ]
  },
  {
   "source": [
    "Note: functions above are defined by goole. The only difference is `base64.urlsafe_b64encode(message.encode(\"utf-8\")).decode(\"utf-8\")` in python3 is necessary due to different deconding in Python 2 and 3'\n",
    "\n",
    "Now we can easily create and send email by functions above"
   ],
   "cell_type": "markdown",
   "metadata": {}
  },
  {
   "cell_type": "code",
   "execution_count": null,
   "metadata": {},
   "outputs": [],
   "source": [
    "my_email=\n",
    "message=create_message(my_email,my_email,'zara','there is stock')\n",
    "send_message(service,'me',message) "
   ]
  },
  {
   "source": [
    "`'me'` is a special input represents the email by which you download the `credentials.json`"
   ],
   "cell_type": "markdown",
   "metadata": {}
  },
  {
   "source": [
    "## 2. [Scraping](https://www.reddit.com/r/Python/comments/3yexp5/scraping_gbp_price_info_from_zaracom_with/)\n",
    "The item I desire and wait for is [this](https://www.zara.com/ca/en/double-faced-faux-leather-jacket-p06318351.html). Let's scrape the page first."
   ],
   "cell_type": "markdown",
   "metadata": {}
  },
  {
   "cell_type": "code",
   "execution_count": null,
   "metadata": {},
   "outputs": [],
   "source": [
    "headers = {\"User-Agent\": \"Mozilla/5.0 (Macintosh; Intel Mac OS X 10_9_5) AppleWebKit 537.36 (KHTML, like Gecko) Chrome\"}\n",
    "rootUrl = \"https://www.zara.com/ca/en/double-faced-faux-leather-jacket-p06318351.html\"\n",
    "\n",
    "session = requests.Session()\n",
    "\n",
    "def get_page():\n",
    "    req = session.get(rootUrl, headers=headers)\n",
    "    soup = BeautifulSoup(req.text, 'html.parser')\n",
    "    return soup.find(\"div\", {\"class\": \"product-size-selector__size-list-wrapper\"})"
   ]
  },
  {
   "source": [
    "Atfer inspecting the website, I found an `div` element whose class is `product-size-selector__size-list-wrapper`, listing all sizes and their stocks. For each size `li` element in this list, it `class` attribute must includes `product-size-selector__size-list-item--out-of-stock`, hence this is the key to determine when to send email."
   ],
   "cell_type": "markdown",
   "metadata": {}
  },
  {
   "cell_type": "code",
   "execution_count": null,
   "metadata": {},
   "outputs": [],
   "source": [
    "def check_item(size=0): # 0 means the smallest size in order\n",
    "    size_selector=get_page()\n",
    "    smallest_size=size_selector.find_all('li')[0]\n",
    "    return 'product-size-selector__size-list-item--out-of-stock' in smallest_size['class']"
   ]
  },
  {
   "source": [
    "## App\n",
    "now we can easily populate the app now ~"
   ],
   "cell_type": "markdown",
   "metadata": {}
  },
  {
   "cell_type": "code",
   "execution_count": null,
   "metadata": {},
   "outputs": [],
   "source": [
    "count=0\n",
    "while check_item():\n",
    "    count+=1\n",
    "    print(count,'-th check')\n",
    "    time.sleep(300) # Sleep for 300 seconds\n",
    "    \n",
    "message=create_message(my_email,my_email,'zara','there is stock')\n",
    "send_message(service,'me',message)"
   ]
  }
 ]
}